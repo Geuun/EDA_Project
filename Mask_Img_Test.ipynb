{
 "cells": [
  {
   "cell_type": "code",
   "execution_count": 2,
   "id": "e1928528",
   "metadata": {
    "ExecuteTime": {
     "end_time": "2022-05-18T02:10:43.294677Z",
     "start_time": "2022-05-18T02:10:42.661412Z"
    }
   },
   "outputs": [],
   "source": [
    "import numpy as np\n",
    "import pandas as pd\n",
    "import requests\n",
    "import time\n",
    "import matplotlib.pyplot as plt\n",
    "import os\n",
    "\n",
    "from bs4 import BeautifulSoup\n",
    "from urllib.parse import quote\n",
    "from selenium import webdriver\n",
    "from collections import Counter\n",
    "from selenium.common.exceptions import NoSuchElementException\n",
    "from wordcloud import WordCloud, STOPWORDS\n",
    "from PIL import Image\n",
    "from konlpy.tag import Okt\n",
    "from collections import Counter\n",
    "from nltk.corpus import stopwords\n",
    "from nltk.tokenize import word_tokenize"
   ]
  },
  {
   "cell_type": "code",
   "execution_count": 14,
   "id": "516e0b9e",
   "metadata": {
    "ExecuteTime": {
     "end_time": "2022-05-18T02:33:45.344932Z",
     "start_time": "2022-05-18T02:33:45.339746Z"
    }
   },
   "outputs": [],
   "source": [
    "# 그래프에서 한글이 출력이 안되는 문제 해결\n",
    "from matplotlib import font_manager, rc\n",
    "font_location = \"/Users/krc/Library/Fonts/BMDOHYEON_otf.otf\"\n",
    "font_name = font_manager.FontProperties(fname=font_location).get_name()\n",
    "rc('font', family=font_name)"
   ]
  },
  {
   "cell_type": "code",
   "execution_count": 21,
   "id": "c4d803dd",
   "metadata": {
    "ExecuteTime": {
     "end_time": "2022-05-18T04:20:26.784184Z",
     "start_time": "2022-05-18T04:20:26.634117Z"
    },
    "scrolled": false
   },
   "outputs": [
    {
     "data": {
      "image/png": "[encoded data removed]",
      "text/plain": [
       "<Figure size 432x288 with 1 Axes>"
      ]
     },
     "metadata": {
      "needs_background": "light"
     },
     "output_type": "display_data"
    }
   ],
   "source": [
    "# 참고\n",
    "# https://noanswercode.tistory.com/8\n",
    "# 마스크가 될 이미지 불러오기 \n",
    "\n",
    "icon = Image.open('./Cloud.png')    # 마스크가 될 이미지 불러오기 \n",
    "plt.imshow(icon)\n",
    "\n",
    "mask = Image.new(\"RGB\", icon.size, (255,255,255))\n",
    "mask.paste(icon,icon)\n",
    "mask = np.array(mask)\n",
    "# 저장하기\n",
    "#mask.save(\"Cloud.png\", format=\"png\")"
   ]
  },
  {
   "cell_type": "code",
   "execution_count": null,
   "id": "5b0809b3",
   "metadata": {},
   "outputs": [],
   "source": [
    "# 참고\n",
    "# https://ssoonidev.tistory.com/89\n",
    "mask = np.array(Image.open(\"./mask_imag/python.png\"))"
   ]
  },
  {
   "cell_type": "code",
   "execution_count": null,
   "id": "36c7def3",
   "metadata": {},
   "outputs": [],
   "source": [
    "# WordCloud 색상 지정"
   ]
  }
 ],
 "metadata": {
  "kernelspec": {
   "display_name": "Python 3 (ipykernel)",
   "language": "python",
   "name": "python3"
  },
  "language_info": {
   "codemirror_mode": {
    "name": "ipython",
    "version": 3
   },
   "file_extension": ".py",
   "mimetype": "text/x-python",
   "name": "python",
   "nbconvert_exporter": "python",
   "pygments_lexer": "ipython3",
   "version": "3.8.13"
  },
  "toc": {
   "base_numbering": 1,
   "nav_menu": {},
   "number_sections": true,
   "sideBar": true,
   "skip_h1_title": false,
   "title_cell": "Table of Contents",
   "title_sidebar": "Contents",
   "toc_cell": false,
   "toc_position": {},
   "toc_section_display": true,
   "toc_window_display": false
  }
 },
 "nbformat": 4,
 "nbformat_minor": 5
}
